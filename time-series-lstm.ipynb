{
 "cells": [
  {
   "cell_type": "markdown",
   "metadata": {},
   "source": [
    "# Training Time Series Model with LSTM"
   ]
  },
  {
   "cell_type": "markdown",
   "metadata": {},
   "source": [
    "# What is LSTM\n",
    "\n",
    "The Long Short-Term Memory network (LSTM), is a recurrent neural network (RNN) that is trained using backpropagation by unrolling in the time dimension. This network can overcome the [vanishing gradient](https://en.wikipedia.org/wiki/Vanishing_gradient_problem) problem found in earlier RNNs.\n",
    "Instead of neurons, LSTM networks have memory blocks thus making it \"smarter\" given that it can store recent sequences. These LSTM blocks are connected through layers. Each block contains gates that manage the state and output.\n",
    "\n",
    "\n",
    "# Problem\n",
    "\n",
    "In this lab, we will train several time series models using 3 different datasets using LSTM network"
   ]
  },
  {
   "cell_type": "markdown",
   "metadata": {},
   "source": [
    "# Loading modules\n"
   ]
  },
  {
   "cell_type": "code",
   "execution_count": null,
   "metadata": {},
   "outputs": [],
   "source": [
    "import mxnet as mx\n",
    "import numpy as np\n",
    "import pandas\n",
    "import matplotlib.pyplot as plt\n",
    "\n",
    "# Enable logging so we will see output during the training\n",
    "import logging\n",
    "logger = logging.getLogger()\n",
    "logger.setLevel(logging.DEBUG)"
   ]
  },
  {
   "cell_type": "markdown",
   "metadata": {},
   "source": [
    "# Utility functions"
   ]
  },
  {
   "cell_type": "code",
   "execution_count": null,
   "metadata": {},
   "outputs": [],
   "source": [
    "def load_data(filename, seq_len, normalise_window, cols, reverse=True):\n",
    "    \n",
    "    dataframe = pandas.read_csv(filename, usecols=cols)\n",
    "\n",
    "    if reverse:\n",
    "        values = dataframe.values[::-1] # reverse to order the dataset chronologically\n",
    "    else:\n",
    "        values = dataframe.values\n",
    "        \n",
    "    data = values[:,0] # get column1 \n",
    "    \n",
    "    sequence_length = seq_len + 1\n",
    "    result = []\n",
    "    for index in range(len(data) - sequence_length):\n",
    "        result.append(data[index: index + sequence_length])\n",
    "    \n",
    "    if normalise_window:\n",
    "        result = normalise_windows(result)\n",
    "\n",
    "    result = np.array(result)\n",
    "\n",
    "    row = round(0.9 * result.shape[0])\n",
    "    train = result[:int(row), :]\n",
    "    x_train = train[:, :-1]\n",
    "    y_train = train[:, -1]\n",
    "    x_test = result[int(row):, :-1]\n",
    "    y_test = result[int(row):, -1]\n",
    "\n",
    "    x_train = np.reshape(x_train, (x_train.shape[0], x_train.shape[1], 1))\n",
    "    x_test = np.reshape(x_test, (x_test.shape[0], x_test.shape[1], 1))  \n",
    "\n",
    "    return [x_train, y_train, x_test, y_test]\n",
    "\n",
    "def normalise_windows(window_data):\n",
    "    normalised_data = []\n",
    "    for window in window_data:\n",
    "        normalised_window = [((float(p) / float(window[0])) - 1) for p in window]\n",
    "        normalised_data.append(normalised_window)\n",
    "    return normalised_data\n",
    "\n",
    "def plot_true_data(true_data):\n",
    "    fig = plt.figure(facecolor='white')\n",
    "    fig.set_size_inches(20, 15)\n",
    "    ax = fig.add_subplot(111)\n",
    "    ax.plot(true_data, label='True Data')\n",
    "    plt.legend()\n",
    "    plt.show()\n",
    "\n",
    "def plot_results(predicted_data, true_data):\n",
    "    fig = plt.figure(facecolor='white')\n",
    "    fig.set_size_inches(20, 15)\n",
    "    ax = fig.add_subplot(111)\n",
    "    ax.plot(true_data, label='True Data')\n",
    "    plt.plot(predicted_data, label='Prediction')\n",
    "    plt.legend()\n",
    "    plt.show()"
   ]
  },
  {
   "cell_type": "markdown",
   "metadata": {},
   "source": [
    "# Create a 1 layer LSTM network\n",
    "\n",
    "## LAB INSTRUCTION\n",
    "- Enter **50** as the value for variable **num_hidden**  - (This is the number of hidden nodes LSTM cell gates)\n",
    "- Enter **50** as the value for variable **seq_len** - (This is the number of LSTM cells in each LSTM network layer)\n",
    "- Enter **50** as the value for variable **batch_size** - (This is the batch size for the training)"
   ]
  },
  {
   "cell_type": "code",
   "execution_count": null,
   "metadata": {},
   "outputs": [],
   "source": [
    "# Build LSTM Network\n",
    "\n",
    "num_hidden =  50   # Follow instruction above\n",
    "seq_len =  50      # Follow instruction above\n",
    "batch_size = 50    # Follow instruction above\n",
    "\n",
    "data = mx.sym.Variable('data')\n",
    "target = mx.sym.Variable ('target')\n",
    "\n",
    "lstm1 = mx.rnn.LSTMCell(num_hidden = num_hidden, prefix=\"lstm1_\")\n",
    "L1, L1_State = lstm1.unroll(length=seq_len, inputs=data, \n",
    "                             merge_outputs=True,\n",
    "                             layout=\"NTC\")  \n",
    "\n",
    "pred = mx.sym.FullyConnected(L1, num_hidden=1, name=\"pred\")\n",
    "pred = mx.sym.LinearRegressionOutput(data=pred, label=target)\n",
    "\n",
    "model = mx.mod.Module(symbol=pred, data_names=['data'], label_names=['target'], context=mx.cpu(0))"
   ]
  },
  {
   "cell_type": "markdown",
   "metadata": {},
   "source": [
    "# Train with Sine Wave Data\n",
    "You will first see a sinusoidal wave appear. Then another image will be generated showing the prediction superimposed on the original chart."
   ]
  },
  {
   "cell_type": "code",
   "execution_count": null,
   "metadata": {},
   "outputs": [],
   "source": [
    "# Load Sine Wave Data\n",
    "\n",
    "filename = \"data/sinwave.csv\"\n",
    "\n",
    "X_train, y_train, X_test, y_test = load_data(filename, seq_len, False, [0])"
   ]
  },
  {
   "cell_type": "code",
   "execution_count": null,
   "metadata": {},
   "outputs": [],
   "source": [
    "# Create NDArrayIter for the training and testing set\n",
    "\n",
    "trainIter = mx.io.NDArrayIter(X_train, y_train, batch_size, label_name = 'target', shuffle=False)\n",
    "testIter = mx.io.NDArrayIter(X_test, y_test, batch_size, label_name = 'target', shuffle=False)"
   ]
  },
  {
   "cell_type": "markdown",
   "metadata": {},
   "source": [
    "# Lab Instruction\n",
    "\n",
    "- Enter **1** as the value for the **num_epochs** variable in the cell below and take a look at plot\n",
    "- Then enter **10** as the value for the **num_epochs** variable, re-run the cell and compare the difference in the plots. You should see the second plot fits the true data much closer than the first plot"
   ]
  },
  {
   "cell_type": "code",
   "execution_count": null,
   "metadata": {},
   "outputs": [],
   "source": [
    "num_epochs = 10  #Enter numner of epochs here\n",
    "\n",
    "model.fit(train_data=trainIter, eval_data=testIter,\n",
    "            initializer=mx.init.Xavier(rnd_type=\"gaussian\", magnitude=1),\n",
    "            optimizer=\"adam\",\n",
    "            optimizer_params={\"learning_rate\": 1E-3},\n",
    "            eval_metric=\"mse\", num_epoch=num_epochs)\n",
    "\n",
    "test_preds = model.predict(testIter)\n",
    "plot_true_data(y_test)\n",
    "plot_results(test_preds.asnumpy(), y_test)"
   ]
  },
  {
   "cell_type": "markdown",
   "metadata": {},
   "source": [
    "# Train with S&P 500 Index Data\n",
    "Expect to see, first, a history of S&P500 variations in price. Then, superimposed, the associated prediction."
   ]
  },
  {
   "cell_type": "code",
   "execution_count": null,
   "metadata": {},
   "outputs": [],
   "source": [
    "# Load S&P500 Data\n",
    "filename = \"data/sp500.csv\"\n",
    "\n",
    "\n",
    "X_train, y_train, X_test, y_test = load_data(filename, seq_len, True, [0])\n",
    "\n",
    "# Create the MXNet NDArray Iterators for training and evaluation dataset\n",
    "trainIter = mx.io.NDArrayIter(X_train, y_train, batch_size, label_name = 'target', shuffle=False)\n",
    "testIter = mx.io.NDArrayIter(X_test, y_test, batch_size, label_name = 'target', shuffle=False)"
   ]
  },
  {
   "cell_type": "code",
   "execution_count": null,
   "metadata": {},
   "outputs": [],
   "source": [
    "num_epochs = 10\n",
    "\n",
    "model.fit(train_data=trainIter, eval_data=testIter,\n",
    "            initializer=mx.init.Xavier(rnd_type=\"gaussian\", magnitude=1),\n",
    "            optimizer=\"adam\",\n",
    "            optimizer_params={\"learning_rate\": 1E-3},\n",
    "            eval_metric=\"mse\", num_epoch=num_epochs)"
   ]
  },
  {
   "cell_type": "code",
   "execution_count": null,
   "metadata": {},
   "outputs": [],
   "source": [
    "test_preds = model.predict(testIter)\n",
    "plot_true_data(y_test)\n",
    "plot_results(test_preds.asnumpy(), y_test)\n"
   ]
  },
  {
   "cell_type": "markdown",
   "metadata": {},
   "source": [
    "# Train with AMZN data\n",
    "By now you should know what to expect."
   ]
  },
  {
   "cell_type": "code",
   "execution_count": null,
   "metadata": {},
   "outputs": [],
   "source": [
    "# Load AMZN stock price\n",
    "filename = 'data/amzn.csv'\n",
    "X_train, y_train, X_test, y_test = load_data(filename, seq_len, True, [4])"
   ]
  },
  {
   "cell_type": "code",
   "execution_count": null,
   "metadata": {},
   "outputs": [],
   "source": [
    "# Create the MXNet NDArray Iterators for training and evaluation dataset\n",
    "trainIter = mx.io.NDArrayIter(X_train, y_train, batch_size, label_name = 'target', shuffle=False)\n",
    "testIter = mx.io.NDArrayIter(X_test, y_test, batch_size, label_name = 'target', shuffle=False)"
   ]
  },
  {
   "cell_type": "code",
   "execution_count": null,
   "metadata": {},
   "outputs": [],
   "source": [
    "num_epochs = 10\n",
    "\n",
    "model.fit(train_data=trainIter, eval_data=testIter,\n",
    "            initializer=mx.init.Xavier(rnd_type=\"gaussian\", magnitude=1),\n",
    "            optimizer=\"adam\",\n",
    "            optimizer_params={\"learning_rate\": 1E-3},\n",
    "            eval_metric=\"mse\", num_epoch=num_epochs)"
   ]
  },
  {
   "cell_type": "code",
   "execution_count": null,
   "metadata": {},
   "outputs": [],
   "source": [
    "test_preds = model.predict(testIter)\n",
    "plot_true_data(y_test)\n",
    "plot_results(test_preds.asnumpy(), y_test)"
   ]
  },
  {
   "cell_type": "code",
   "execution_count": null,
   "metadata": {},
   "outputs": [],
   "source": []
  }
 ],
 "metadata": {
  "kernelspec": {
   "display_name": "conda_mxnet_p27",
   "language": "python",
   "name": "conda_mxnet_p27"
  },
  "language_info": {
   "codemirror_mode": {
    "name": "ipython",
    "version": 2
   },
   "file_extension": ".py",
   "mimetype": "text/x-python",
   "name": "python",
   "nbconvert_exporter": "python",
   "pygments_lexer": "ipython2",
   "version": "2.7.15"
  }
 },
 "nbformat": 4,
 "nbformat_minor": 2
}
